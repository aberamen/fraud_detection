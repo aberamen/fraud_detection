{
 "cells": [
  {
   "cell_type": "code",
   "execution_count": null,
   "metadata": {},
   "outputs": [],
   "source": [
    "# notebooks/04_model_training.ipynb\n",
    "\n",
    "# Import libraries\n",
    "import pandas as pd\n",
    "import mlflow\n",
    "\n",
    "# Import functions from src\n",
    "import sys\n",
    "sys.path.append(\"../src\")  # Add src to the Python path\n",
    "from models.train_model import train_fraud_model, train_creditcard_model\n",
    "from models.evaluate_model import evaluate_model\n",
    "\n",
    "# Set up MLflow tracking\n",
    "mlflow.set_tracking_uri(\"file:../logs/mlruns\")  # Local tracking\n",
    "mlflow.set_experiment(\"Fraud Detection\")\n",
    "\n",
    "# Train and evaluate models\n",
    "train_fraud_model()\n",
    "train_creditcard_model()\n",
    "\n",
    "# Load test data for evaluation\n",
    "from utils.load_data import load_data\n",
    "fraud_df = load_data(\"fraud_data_with_features.csv\")\n",
    "creditcard_df = load_data(\"creditcard_processed.csv\")\n",
    "\n",
    "# Evaluate fraud model\n",
    "X_fraud_test = fraud_df.drop(columns=['class', 'user_id', 'signup_time', 'purchase_time', 'device_id', 'ip_address'])\n",
    "y_fraud_test = fraud_df['class']\n",
    "evaluate_model(\"../models/fraud_model.pkl\", X_fraud_test, y_fraud_test)\n",
    "\n",
    "# Evaluate credit card model\n",
    "X_creditcard_test = creditcard_df.drop(columns=['Class', 'Time'])\n",
    "y_creditcard_test = creditcard_df['Class']\n",
    "evaluate_model(\"../models/creditcard_model.pkl\", X_creditcard_test, y_creditcard_test)"
   ]
  }
 ],
 "metadata": {
  "language_info": {
   "name": "python"
  }
 },
 "nbformat": 4,
 "nbformat_minor": 2
}
