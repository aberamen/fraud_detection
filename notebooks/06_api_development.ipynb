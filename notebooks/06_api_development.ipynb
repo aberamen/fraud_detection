{
 "cells": [
  {
   "cell_type": "code",
   "execution_count": null,
   "metadata": {},
   "outputs": [],
   "source": [
    "# notebooks/06_api_development.ipynb\n",
    "\n",
    "import requests\n",
    "import json\n",
    "\n",
    "# Test the E-commerce Fraud Prediction API\n",
    "url = \"http://localhost:5000/predict_fraud\"\n",
    "data = [\n",
    "    {\"purchase_value\": 100, \"hour_of_day\": 14, \"day_of_week\": 3, \"age\": 25}\n",
    "]\n",
    "headers = {\"Content-Type\": \"application/json\"}\n",
    "\n",
    "response = requests.post(url, data=json.dumps(data), headers=headers)\n",
    "print(\"E-commerce Fraud Prediction:\")\n",
    "print(response.json())\n",
    "\n",
    "# Test the Credit Card Fraud Prediction API\n",
    "url = \"http://localhost:5000/predict_creditcard_fraud\"\n",
    "data = [\n",
    "    {\"V1\": -1.23, \"V2\": 0.45, \"V3\": -0.67, \"Amount\": 150}\n",
    "]\n",
    "\n",
    "response = requests.post(url, data=json.dumps(data), headers=headers)\n",
    "print(\"Credit Card Fraud Prediction:\")\n",
    "print(response.json())"
   ]
  }
 ],
 "metadata": {
  "language_info": {
   "name": "python"
  }
 },
 "nbformat": 4,
 "nbformat_minor": 2
}
