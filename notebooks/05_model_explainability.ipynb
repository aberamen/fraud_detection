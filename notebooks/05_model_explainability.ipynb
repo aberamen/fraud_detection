{
 "cells": [
  {
   "cell_type": "code",
   "execution_count": null,
   "metadata": {},
   "outputs": [],
   "source": [
    "# notebooks/05_model_explainability.ipynb\n",
    "\n",
    "# Import libraries\n",
    "import pandas as pd\n",
    "import mlflow\n",
    "import shap\n",
    "import lime\n",
    "from lime import lime_tabular\n",
    "\n",
    "# Import functions from src\n",
    "import sys\n",
    "sys.path.append(\"../src\")  # Add src to the Python path\n",
    "from utils.load_data import load_data\n",
    "from explainability.shap_explain import explain_with_shap\n",
    "from explainability.lime_explain import explain_with_lime\n",
    "\n",
    "# Load test data for explainability\n",
    "fraud_df = load_data(\"fraud_data_with_features.csv\")\n",
    "creditcard_df = load_data(\"creditcard_processed.csv\")\n",
    "\n",
    "# Prepare feature sets\n",
    "X_fraud = fraud_df.drop(columns=['class', 'user_id', 'signup_time', 'purchase_time', 'device_id', 'ip_address'])\n",
    "X_creditcard = creditcard_df.drop(columns=['Class', 'Time'])\n",
    "\n",
    "# Explain fraud model with SHAP\n",
    "explain_with_shap(\"../models/fraud_model.pkl\", X_fraud)\n",
    "\n",
    "# Explain credit card model with SHAP\n",
    "explain_with_shap(\"../models/creditcard_model.pkl\", X_creditcard)\n",
    "\n",
    "# Explain fraud model with LIME\n",
    "explain_with_lime(\"../models/fraud_model.pkl\", X_fraud, X_fraud.columns.tolist())\n",
    "\n",
    "# Explain credit card model with LIME\n",
    "explain_with_lime(\"../models/creditcard_model.pkl\", X_creditcard, X_creditcard.columns.tolist())"
   ]
  }
 ],
 "metadata": {
  "language_info": {
   "name": "python"
  }
 },
 "nbformat": 4,
 "nbformat_minor": 2
}
