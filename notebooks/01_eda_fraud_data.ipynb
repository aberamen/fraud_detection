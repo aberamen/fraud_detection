{
 "cells": [
  {
   "cell_type": "code",
   "execution_count": null,
   "metadata": {},
   "outputs": [],
   "source": [
    "# notebooks/01_eda_fraud_data.ipynb\n",
    "\n",
    "# Import libraries\n",
    "import pandas as pd\n",
    "import matplotlib.pyplot as plt\n",
    "import seaborn as sns\n",
    "\n",
    "# Load cleaned data\n",
    "df = pd.read_csv(\"../data/processed/fraud_data_cleaned.csv\")\n",
    "\n",
    "# Display basic info\n",
    "print(\"Dataset Info:\")\n",
    "print(df.info())\n",
    "\n",
    "# Display first 5 rows\n",
    "print(\"\\nFirst 5 Rows:\")\n",
    "print(df.head())\n",
    "\n",
    "# Check for missing values\n",
    "print(\"\\nMissing Values:\")\n",
    "print(df.isnull().sum())\n",
    "\n",
    "# Univariate Analysis\n",
    "# Distribution of purchase_value\n",
    "plt.figure(figsize=(10, 6))\n",
    "sns.histplot(df['purchase_value'], bins=30, kde=True)\n",
    "plt.title(\"Distribution of Purchase Value\")\n",
    "plt.xlabel(\"Purchase Value\")\n",
    "plt.ylabel(\"Frequency\")\n",
    "plt.show()\n",
    "\n",
    "# Bivariate Analysis\n",
    "# Purchase value vs fraud class\n",
    "plt.figure(figsize=(10, 6))\n",
    "sns.boxplot(x='class', y='purchase_value', data=df)\n",
    "plt.title(\"Purchase Value vs Fraud Class\")\n",
    "plt.xlabel(\"Fraud Class (1 = Fraud, 0 = Not Fraud)\")\n",
    "plt.ylabel(\"Purchase Value\")\n",
    "plt.show()"
   ]
  }
 ],
 "metadata": {
  "language_info": {
   "name": "python"
  }
 },
 "nbformat": 4,
 "nbformat_minor": 2
}
